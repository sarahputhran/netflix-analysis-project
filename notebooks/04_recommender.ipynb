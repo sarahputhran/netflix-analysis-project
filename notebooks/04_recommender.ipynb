{
 "cells": [
  {
   "cell_type": "code",
   "execution_count": 56,
   "id": "8da0f0e2",
   "metadata": {},
   "outputs": [],
   "source": [
    "# Imports\n",
    "import os\n",
    "import pandas as pd\n",
    "import numpy as np\n",
    "from sklearn.feature_extraction.text import TfidfVectorizer\n",
    "from sklearn.metrics.pairwise import cosine_similarity\n",
    "import joblib"
   ]
  },
  {
   "cell_type": "code",
   "execution_count": 57,
   "id": "3a3f6c23",
   "metadata": {},
   "outputs": [
    {
     "data": {
      "text/plain": [
       "(8804, 13)"
      ]
     },
     "execution_count": 57,
     "metadata": {},
     "output_type": "execute_result"
    }
   ],
   "source": [
    "# Load cleaned data\n",
    "path = r\"C:\\Users\\Admibn\\OneDrive\\Desktop\\Netflix Project\\netflix-analysis-project\\data\\cleaned\\netflix_titles_clean.csv\"\n",
    "df = pd.read_csv(path)\n",
    "df.shape"
   ]
  },
  {
   "cell_type": "code",
   "execution_count": 58,
   "id": "c0b63baa",
   "metadata": {},
   "outputs": [
    {
     "data": {
      "text/html": [
       "<div>\n",
       "<style scoped>\n",
       "    .dataframe tbody tr th:only-of-type {\n",
       "        vertical-align: middle;\n",
       "    }\n",
       "\n",
       "    .dataframe tbody tr th {\n",
       "        vertical-align: top;\n",
       "    }\n",
       "\n",
       "    .dataframe thead th {\n",
       "        text-align: right;\n",
       "    }\n",
       "</style>\n",
       "<table border=\"1\" class=\"dataframe\">\n",
       "  <thead>\n",
       "    <tr style=\"text-align: right;\">\n",
       "      <th></th>\n",
       "      <th>title</th>\n",
       "      <th>show_id</th>\n",
       "      <th>type</th>\n",
       "      <th>release_year</th>\n",
       "      <th>primary_country</th>\n",
       "      <th>genres_str</th>\n",
       "      <th>rating</th>\n",
       "      <th>date_added</th>\n",
       "      <th>date_added_year</th>\n",
       "      <th>date_added_month</th>\n",
       "      <th>director_primary</th>\n",
       "      <th>cast_primary</th>\n",
       "      <th>metadata</th>\n",
       "    </tr>\n",
       "  </thead>\n",
       "  <tbody>\n",
       "    <tr>\n",
       "      <th>0</th>\n",
       "      <td>Dick Johnson Is Dead</td>\n",
       "      <td>s1</td>\n",
       "      <td>Movie</td>\n",
       "      <td>2020</td>\n",
       "      <td>United States</td>\n",
       "      <td>Documentaries</td>\n",
       "      <td>PG-13</td>\n",
       "      <td>2021-09-25</td>\n",
       "      <td>2021.0</td>\n",
       "      <td>9.0</td>\n",
       "      <td>Kirsten Johnson</td>\n",
       "      <td>NaN</td>\n",
       "      <td>Dick Johnson Is Dead | As her father nears the...</td>\n",
       "    </tr>\n",
       "    <tr>\n",
       "      <th>1</th>\n",
       "      <td>Blood &amp; Water</td>\n",
       "      <td>s2</td>\n",
       "      <td>Tv Show</td>\n",
       "      <td>2021</td>\n",
       "      <td>South Africa</td>\n",
       "      <td>International TV Shows|TV Dramas|TV Mysteries</td>\n",
       "      <td>TV-MA</td>\n",
       "      <td>2021-09-24</td>\n",
       "      <td>2021.0</td>\n",
       "      <td>9.0</td>\n",
       "      <td>NaN</td>\n",
       "      <td>Ama Qamata</td>\n",
       "      <td>Blood &amp; Water | After crossing paths at a part...</td>\n",
       "    </tr>\n",
       "    <tr>\n",
       "      <th>2</th>\n",
       "      <td>Ganglands</td>\n",
       "      <td>s3</td>\n",
       "      <td>Tv Show</td>\n",
       "      <td>2021</td>\n",
       "      <td>Unknown</td>\n",
       "      <td>Crime TV Shows|International TV Shows|TV Actio...</td>\n",
       "      <td>TV-MA</td>\n",
       "      <td>2021-09-24</td>\n",
       "      <td>2021.0</td>\n",
       "      <td>9.0</td>\n",
       "      <td>Julien Leclercq</td>\n",
       "      <td>Sami Bouajila</td>\n",
       "      <td>Ganglands | To protect his family from a power...</td>\n",
       "    </tr>\n",
       "    <tr>\n",
       "      <th>3</th>\n",
       "      <td>Jailbirds New Orleans</td>\n",
       "      <td>s4</td>\n",
       "      <td>Tv Show</td>\n",
       "      <td>2021</td>\n",
       "      <td>Unknown</td>\n",
       "      <td>Docuseries|Reality TV</td>\n",
       "      <td>TV-MA</td>\n",
       "      <td>2021-09-24</td>\n",
       "      <td>2021.0</td>\n",
       "      <td>9.0</td>\n",
       "      <td>NaN</td>\n",
       "      <td>NaN</td>\n",
       "      <td>Jailbirds New Orleans | Feuds, flirtations and...</td>\n",
       "    </tr>\n",
       "    <tr>\n",
       "      <th>4</th>\n",
       "      <td>Kota Factory</td>\n",
       "      <td>s5</td>\n",
       "      <td>Tv Show</td>\n",
       "      <td>2021</td>\n",
       "      <td>India</td>\n",
       "      <td>International TV Shows|Romantic TV Shows|TV Co...</td>\n",
       "      <td>TV-MA</td>\n",
       "      <td>2021-09-24</td>\n",
       "      <td>2021.0</td>\n",
       "      <td>9.0</td>\n",
       "      <td>NaN</td>\n",
       "      <td>Mayur More</td>\n",
       "      <td>Kota Factory | In a city of coaching centers k...</td>\n",
       "    </tr>\n",
       "  </tbody>\n",
       "</table>\n",
       "</div>"
      ],
      "text/plain": [
       "                   title show_id     type  release_year primary_country  \\\n",
       "0   Dick Johnson Is Dead      s1    Movie          2020   United States   \n",
       "1          Blood & Water      s2  Tv Show          2021    South Africa   \n",
       "2              Ganglands      s3  Tv Show          2021         Unknown   \n",
       "3  Jailbirds New Orleans      s4  Tv Show          2021         Unknown   \n",
       "4           Kota Factory      s5  Tv Show          2021           India   \n",
       "\n",
       "                                          genres_str rating  date_added  \\\n",
       "0                                      Documentaries  PG-13  2021-09-25   \n",
       "1      International TV Shows|TV Dramas|TV Mysteries  TV-MA  2021-09-24   \n",
       "2  Crime TV Shows|International TV Shows|TV Actio...  TV-MA  2021-09-24   \n",
       "3                              Docuseries|Reality TV  TV-MA  2021-09-24   \n",
       "4  International TV Shows|Romantic TV Shows|TV Co...  TV-MA  2021-09-24   \n",
       "\n",
       "   date_added_year  date_added_month director_primary   cast_primary  \\\n",
       "0           2021.0               9.0  Kirsten Johnson            NaN   \n",
       "1           2021.0               9.0              NaN     Ama Qamata   \n",
       "2           2021.0               9.0  Julien Leclercq  Sami Bouajila   \n",
       "3           2021.0               9.0              NaN            NaN   \n",
       "4           2021.0               9.0              NaN     Mayur More   \n",
       "\n",
       "                                            metadata  \n",
       "0  Dick Johnson Is Dead | As her father nears the...  \n",
       "1  Blood & Water | After crossing paths at a part...  \n",
       "2  Ganglands | To protect his family from a power...  \n",
       "3  Jailbirds New Orleans | Feuds, flirtations and...  \n",
       "4  Kota Factory | In a city of coaching centers k...  "
      ]
     },
     "execution_count": 58,
     "metadata": {},
     "output_type": "execute_result"
    }
   ],
   "source": [
    "# Viewing first 5 rows\n",
    "df.head(5)"
   ]
  },
  {
   "cell_type": "code",
   "execution_count": 59,
   "id": "98b134ea",
   "metadata": {},
   "outputs": [],
   "source": [
    "# Combining description and genres into a single feature\n",
    "df[\"combined_features\"] = (\n",
    "    df[\"metadata\"].fillna(\"\").str.lower() + \" \" + df[\"genres_str\"].fillna(\"\").str.lower()\n",
    ")"
   ]
  },
  {
   "cell_type": "code",
   "execution_count": 60,
   "id": "3a8eeda1",
   "metadata": {},
   "outputs": [
    {
     "data": {
      "text/plain": [
       "(8804, 5000)"
      ]
     },
     "execution_count": 60,
     "metadata": {},
     "output_type": "execute_result"
    }
   ],
   "source": [
    "# TF-IDF Vectorization\n",
    "# We will use TF-IDF to convert the text data into numerical format suitable for similarity calculations\n",
    "# Similarity calculation means we can recommend similar shows based on content\n",
    "tfidf = TfidfVectorizer(stop_words='english', max_features=5000)\n",
    "tfidf_matrix = tfidf.fit_transform(df[\"combined_features\"])\n",
    "tfidf_matrix.shape"
   ]
  },
  {
   "cell_type": "code",
   "execution_count": 61,
   "id": "78e639ef",
   "metadata": {},
   "outputs": [
    {
     "data": {
      "text/plain": [
       "(8804, 8804)"
      ]
     },
     "execution_count": 61,
     "metadata": {},
     "output_type": "execute_result"
    }
   ],
   "source": [
    "# Cosine Similarity - Calculating similarity between all shows\n",
    "cosine_sim = cosine_similarity(tfidf_matrix, tfidf_matrix)\n",
    "cosine_sim.shape"
   ]
  },
  {
   "cell_type": "code",
   "execution_count": 62,
   "id": "70aa9549",
   "metadata": {},
   "outputs": [
    {
     "data": {
      "text/plain": [
       "title\n",
       "Dick Johnson Is Dead     0\n",
       "Blood & Water            1\n",
       "Ganglands                2\n",
       "Jailbirds New Orleans    3\n",
       "Kota Factory             4\n",
       "dtype: int64"
      ]
     },
     "execution_count": 62,
     "metadata": {},
     "output_type": "execute_result"
    }
   ],
   "source": [
    "# We will create a Series to map show titles to their indices\n",
    "# Why? Because our cosine similarity matrix is indexed by numerical indices\n",
    "indices = pd.Series(df.index, index=df[\"title\"]).drop_duplicates()\n",
    "indices.head()"
   ]
  },
  {
   "cell_type": "code",
   "execution_count": 63,
   "id": "c5986243",
   "metadata": {},
   "outputs": [],
   "source": [
    "# Recommendation function\n",
    "# Given a show title, return the top 10 most similar shows\n",
    "def recommend(title, cosine_sim=cosine_sim):\n",
    "    title = title.strip().lower() # Normalize input\n",
    "    if title not in indices.index.str.lower():\n",
    "        return \"Title not found in the dataset.\"\n",
    "    idx = df[\"title\"].str.lower().to_list().index(title) # Get index of the show\n",
    "    sim_scores = list(enumerate(cosine_sim[idx])) # Get similarity scores\n",
    "    sim_scores = sorted(sim_scores, key=lambda x: x[1], reverse=True)[1:11] # Top 10 similar shows\n",
    "    movie_indices = [i[0] for i in sim_scores] # Get indices of the shows\n",
    "    return df[\"title\"].iloc[movie_indices].to_list()"
   ]
  },
  {
   "cell_type": "code",
   "execution_count": 64,
   "id": "9f3a1908",
   "metadata": {},
   "outputs": [
    {
     "name": "stdout",
     "output_type": "stream",
     "text": [
      "['Futmalls.com', 'Ozark', 'Dare Me', 'Get Shorty', 'Have You Ever Fallen in Love, Miss Jiang?', 'Bad Blood', 'Sparta', 'Tunnel', 'The Lizzie Borden Chronicles', 'The Judgement']\n"
     ]
    }
   ],
   "source": [
    "# Testing the recommender\n",
    "print(recommend(\"breaKing BAD\"))"
   ]
  },
  {
   "cell_type": "code",
   "execution_count": 65,
   "id": "08a4ee1d",
   "metadata": {},
   "outputs": [
    {
     "data": {
      "text/plain": [
       "['C:\\\\Users\\\\Admibn\\\\OneDrive\\\\Desktop\\\\Netflix Project\\\\netflix-analysis-project\\\\app\\\\models\\\\data_reference.pkl']"
      ]
     },
     "execution_count": 65,
     "metadata": {},
     "output_type": "execute_result"
    }
   ],
   "source": [
    "# Save the model and data reference\n",
    "model_dir = r\"C:\\Users\\Admibn\\OneDrive\\Desktop\\Netflix Project\\netflix-analysis-project\\app\\models\"\n",
    "os.makedirs(model_dir, exist_ok=True)\n",
    "joblib.dump(tfidf, model_dir + r\"\\tfidf_vectorizer.pkl\")\n",
    "joblib.dump(cosine_sim, model_dir + r\"\\cosine_similarity.pkl\")\n",
    "joblib.dump(df[[\"title\", \"combined_features\"]], model_dir + r\"\\data_reference.pkl\")\n",
    "# Joblib used for saving large numpy arrays efficiently since cosine similarity matrix can be large and complex"
   ]
  },
  {
   "cell_type": "code",
   "execution_count": 66,
   "id": "45c698cc",
   "metadata": {},
   "outputs": [
    {
     "data": {
      "text/plain": [
       "['cosine_similarity.pkl', 'data_reference.pkl', 'tfidf_vectorizer.pkl']"
      ]
     },
     "execution_count": 66,
     "metadata": {},
     "output_type": "execute_result"
    }
   ],
   "source": [
    "# Verify saved files\n",
    "os.listdir(model_dir)"
   ]
  }
 ],
 "metadata": {
  "kernelspec": {
   "display_name": "Python (netflix_proj)",
   "language": "python",
   "name": "netflix_proj"
  },
  "language_info": {
   "codemirror_mode": {
    "name": "ipython",
    "version": 3
   },
   "file_extension": ".py",
   "mimetype": "text/x-python",
   "name": "python",
   "nbconvert_exporter": "python",
   "pygments_lexer": "ipython3",
   "version": "3.11.9"
  }
 },
 "nbformat": 4,
 "nbformat_minor": 5
}
