{
 "cells": [
  {
   "cell_type": "markdown",
   "id": "34ab5ff7",
   "metadata": {},
   "source": [
    "# 02 - Data Cleaning & Feature Engineering\n",
    "\n",
    "Purpose:\n",
    "- Clean Netflix Titles dataset: handle missing values, fix data types, parse dates.\n",
    "- Engineer a few helpful features for analysis and recommender:\n",
    "  - `primary_country`, `genres_list` / `genres_str`, `date_added_year`, `date_added_month`, `director_primary`, `cast_primary`, `metadata`.\n",
    "- Save cleaned, smaller CSV at `data/cleaned/netflix_titles_clean.csv`."
   ]
  },
  {
   "cell_type": "code",
   "execution_count": 193,
   "id": "9ff0a455",
   "metadata": {},
   "outputs": [],
   "source": [
    "# Imports and path constants\n",
    "import os\n",
    "from pathlib import Path\n",
    "import pandas as pd\n",
    "import numpy as np\n",
    "from IPython.display import display\n",
    "\n",
    "# Paths\n",
    "RAW_CSV = Path(r\"C:\\Users\\Admibn\\OneDrive\\Desktop\\Netflix Project\\netflix-analysis-project\\data\\raw\\netflix_titles.csv\")\n",
    "RAW_XLSX = Path(r\"C:\\Users\\Admibn\\OneDrive\\Desktop\\Netflix Project\\netflix-analysis-project\\data\\raw\\netflix_titles.xlsx\")\n",
    "CLEAN_DIR = Path(r\"C:\\Users\\Admibn\\OneDrive\\Desktop\\Netflix Project\\netflix-analysis-project\\data\\cleaned\")\n",
    "CLEAN_CSV = CLEAN_DIR / \"netflix_titles_clean.csv\"\n",
    "\n",
    "pd.set_option(\"display.max_columns\", 180)\n",
    "pd.set_option(\"display.max_colwidth\", 200)"
   ]
  },
  {
   "cell_type": "code",
   "execution_count": 194,
   "id": "5bbdaba4",
   "metadata": {},
   "outputs": [
    {
     "name": "stdout",
     "output_type": "stream",
     "text": [
      "Loaded CSV:  C:\\Users\\Admibn\\OneDrive\\Desktop\\Netflix Project\\netflix-analysis-project\\data\\raw\\netflix_titles.csv\n",
      "Shape:  (8807, 12)\n"
     ]
    },
    {
     "data": {
      "text/html": [
       "<div>\n",
       "<style scoped>\n",
       "    .dataframe tbody tr th:only-of-type {\n",
       "        vertical-align: middle;\n",
       "    }\n",
       "\n",
       "    .dataframe tbody tr th {\n",
       "        vertical-align: top;\n",
       "    }\n",
       "\n",
       "    .dataframe thead th {\n",
       "        text-align: right;\n",
       "    }\n",
       "</style>\n",
       "<table border=\"1\" class=\"dataframe\">\n",
       "  <thead>\n",
       "    <tr style=\"text-align: right;\">\n",
       "      <th></th>\n",
       "      <th>show_id</th>\n",
       "      <th>type</th>\n",
       "      <th>title</th>\n",
       "      <th>director</th>\n",
       "      <th>cast</th>\n",
       "      <th>country</th>\n",
       "      <th>date_added</th>\n",
       "      <th>release_year</th>\n",
       "      <th>rating</th>\n",
       "      <th>duration</th>\n",
       "      <th>listed_in</th>\n",
       "      <th>description</th>\n",
       "    </tr>\n",
       "  </thead>\n",
       "  <tbody>\n",
       "    <tr>\n",
       "      <th>0</th>\n",
       "      <td>s1</td>\n",
       "      <td>Movie</td>\n",
       "      <td>Dick Johnson Is Dead</td>\n",
       "      <td>Kirsten Johnson</td>\n",
       "      <td>NaN</td>\n",
       "      <td>United States</td>\n",
       "      <td>September 25, 2021</td>\n",
       "      <td>2020</td>\n",
       "      <td>PG-13</td>\n",
       "      <td>90 min</td>\n",
       "      <td>Documentaries</td>\n",
       "      <td>As her father nears the end of his life, filmmaker Kirsten Johnson stages his death in inventive and comical ways to help them both face the inevitable.</td>\n",
       "    </tr>\n",
       "    <tr>\n",
       "      <th>1</th>\n",
       "      <td>s2</td>\n",
       "      <td>TV Show</td>\n",
       "      <td>Blood &amp; Water</td>\n",
       "      <td>NaN</td>\n",
       "      <td>Ama Qamata, Khosi Ngema, Gail Mabalane, Thabang Molaba, Dillon Windvogel, Natasha Thahane, Arno Greeff, Xolile Tshabalala, Getmore Sithole, Cindy Mahlangu, Ryle De Morny, Greteli Fincham, Sello Ma...</td>\n",
       "      <td>South Africa</td>\n",
       "      <td>September 24, 2021</td>\n",
       "      <td>2021</td>\n",
       "      <td>TV-MA</td>\n",
       "      <td>2 Seasons</td>\n",
       "      <td>International TV Shows, TV Dramas, TV Mysteries</td>\n",
       "      <td>After crossing paths at a party, a Cape Town teen sets out to prove whether a private-school swimming star is her sister who was abducted at birth.</td>\n",
       "    </tr>\n",
       "    <tr>\n",
       "      <th>2</th>\n",
       "      <td>s3</td>\n",
       "      <td>TV Show</td>\n",
       "      <td>Ganglands</td>\n",
       "      <td>Julien Leclercq</td>\n",
       "      <td>Sami Bouajila, Tracy Gotoas, Samuel Jouy, Nabiha Akkari, Sofia Lesaffre, Salim Kechiouche, Noureddine Farihi, Geert Van Rampelberg, Bakary Diombera</td>\n",
       "      <td>NaN</td>\n",
       "      <td>September 24, 2021</td>\n",
       "      <td>2021</td>\n",
       "      <td>TV-MA</td>\n",
       "      <td>1 Season</td>\n",
       "      <td>Crime TV Shows, International TV Shows, TV Action &amp; Adventure</td>\n",
       "      <td>To protect his family from a powerful drug lord, skilled thief Mehdi and his expert team of robbers are pulled into a violent and deadly turf war.</td>\n",
       "    </tr>\n",
       "    <tr>\n",
       "      <th>3</th>\n",
       "      <td>s4</td>\n",
       "      <td>TV Show</td>\n",
       "      <td>Jailbirds New Orleans</td>\n",
       "      <td>NaN</td>\n",
       "      <td>NaN</td>\n",
       "      <td>NaN</td>\n",
       "      <td>September 24, 2021</td>\n",
       "      <td>2021</td>\n",
       "      <td>TV-MA</td>\n",
       "      <td>1 Season</td>\n",
       "      <td>Docuseries, Reality TV</td>\n",
       "      <td>Feuds, flirtations and toilet talk go down among the incarcerated women at the Orleans Justice Center in New Orleans on this gritty reality series.</td>\n",
       "    </tr>\n",
       "    <tr>\n",
       "      <th>4</th>\n",
       "      <td>s5</td>\n",
       "      <td>TV Show</td>\n",
       "      <td>Kota Factory</td>\n",
       "      <td>NaN</td>\n",
       "      <td>Mayur More, Jitendra Kumar, Ranjan Raj, Alam Khan, Ahsaas Channa, Revathi Pillai, Urvi Singh, Arun Kumar</td>\n",
       "      <td>India</td>\n",
       "      <td>September 24, 2021</td>\n",
       "      <td>2021</td>\n",
       "      <td>TV-MA</td>\n",
       "      <td>2 Seasons</td>\n",
       "      <td>International TV Shows, Romantic TV Shows, TV Comedies</td>\n",
       "      <td>In a city of coaching centers known to train India���s finest collegiate minds, an earnest but unexceptional student and his friends navigate campus life.</td>\n",
       "    </tr>\n",
       "  </tbody>\n",
       "</table>\n",
       "</div>"
      ],
      "text/plain": [
       "  show_id     type                  title         director  \\\n",
       "0      s1    Movie   Dick Johnson Is Dead  Kirsten Johnson   \n",
       "1      s2  TV Show          Blood & Water              NaN   \n",
       "2      s3  TV Show              Ganglands  Julien Leclercq   \n",
       "3      s4  TV Show  Jailbirds New Orleans              NaN   \n",
       "4      s5  TV Show           Kota Factory              NaN   \n",
       "\n",
       "                                                                                                                                                                                                      cast  \\\n",
       "0                                                                                                                                                                                                      NaN   \n",
       "1  Ama Qamata, Khosi Ngema, Gail Mabalane, Thabang Molaba, Dillon Windvogel, Natasha Thahane, Arno Greeff, Xolile Tshabalala, Getmore Sithole, Cindy Mahlangu, Ryle De Morny, Greteli Fincham, Sello Ma...   \n",
       "2                                                      Sami Bouajila, Tracy Gotoas, Samuel Jouy, Nabiha Akkari, Sofia Lesaffre, Salim Kechiouche, Noureddine Farihi, Geert Van Rampelberg, Bakary Diombera   \n",
       "3                                                                                                                                                                                                      NaN   \n",
       "4                                                                                                 Mayur More, Jitendra Kumar, Ranjan Raj, Alam Khan, Ahsaas Channa, Revathi Pillai, Urvi Singh, Arun Kumar   \n",
       "\n",
       "         country          date_added  release_year rating   duration  \\\n",
       "0  United States  September 25, 2021          2020  PG-13     90 min   \n",
       "1   South Africa  September 24, 2021          2021  TV-MA  2 Seasons   \n",
       "2            NaN  September 24, 2021          2021  TV-MA   1 Season   \n",
       "3            NaN  September 24, 2021          2021  TV-MA   1 Season   \n",
       "4          India  September 24, 2021          2021  TV-MA  2 Seasons   \n",
       "\n",
       "                                                       listed_in  \\\n",
       "0                                                  Documentaries   \n",
       "1                International TV Shows, TV Dramas, TV Mysteries   \n",
       "2  Crime TV Shows, International TV Shows, TV Action & Adventure   \n",
       "3                                         Docuseries, Reality TV   \n",
       "4         International TV Shows, Romantic TV Shows, TV Comedies   \n",
       "\n",
       "                                                                                                                                                  description  \n",
       "0    As her father nears the end of his life, filmmaker Kirsten Johnson stages his death in inventive and comical ways to help them both face the inevitable.  \n",
       "1         After crossing paths at a party, a Cape Town teen sets out to prove whether a private-school swimming star is her sister who was abducted at birth.  \n",
       "2          To protect his family from a powerful drug lord, skilled thief Mehdi and his expert team of robbers are pulled into a violent and deadly turf war.  \n",
       "3         Feuds, flirtations and toilet talk go down among the incarcerated women at the Orleans Justice Center in New Orleans on this gritty reality series.  \n",
       "4  In a city of coaching centers known to train India���s finest collegiate minds, an earnest but unexceptional student and his friends navigate campus life.  "
      ]
     },
     "metadata": {},
     "output_type": "display_data"
    }
   ],
   "source": [
    "# Load dataset\n",
    "if RAW_CSV.exists():\n",
    "    df = pd.read_csv(RAW_CSV)\n",
    "    print(\"Loaded CSV: \", RAW_CSV)\n",
    "elif RAW_XLSX.exists():\n",
    "    df = pd.read_excel(RAW_XLSX)\n",
    "    print(\"Loaded Excel: \", RAW_XLSX)\n",
    "else:\n",
    "    raise FileNotFoundError(\"No dataset found in data/raw. Put netflix_titles.csv or netflix_titles.xlsx there.\")\n",
    "\n",
    "print(\"Shape: \", df.shape)\n",
    "display(df.head(5))"
   ]
  },
  {
   "cell_type": "code",
   "execution_count": 195,
   "id": "fce8d8d9",
   "metadata": {},
   "outputs": [
    {
     "name": "stdout",
     "output_type": "stream",
     "text": [
      "Columns:  ['show_id', 'type', 'title', 'director', 'cast', 'country', 'date_added', 'release_year', 'rating', 'duration', 'listed_in', 'description']\n",
      "\n",
      "Dtypes:\n"
     ]
    },
    {
     "data": {
      "text/plain": [
       "show_id         object\n",
       "type            object\n",
       "title           object\n",
       "director        object\n",
       "cast            object\n",
       "country         object\n",
       "date_added      object\n",
       "release_year     int64\n",
       "rating          object\n",
       "duration        object\n",
       "listed_in       object\n",
       "description     object\n",
       "dtype: object"
      ]
     },
     "metadata": {},
     "output_type": "display_data"
    },
    {
     "name": "stdout",
     "output_type": "stream",
     "text": [
      "\n",
      "Missing values (descending):\n"
     ]
    },
    {
     "data": {
      "text/plain": [
       "director        2634\n",
       "country          831\n",
       "cast             825\n",
       "date_added        10\n",
       "rating             4\n",
       "duration           3\n",
       "show_id            0\n",
       "type               0\n",
       "title              0\n",
       "release_year       0\n",
       "listed_in          0\n",
       "description        0\n",
       "dtype: int64"
      ]
     },
     "metadata": {},
     "output_type": "display_data"
    }
   ],
   "source": [
    "# Schema and missing values\n",
    "print(\"Columns: \", list(df.columns))\n",
    "print(\"\\nDtypes:\")\n",
    "display(df.dtypes)\n",
    "print(\"\\nMissing values (descending):\")\n",
    "display(df.isnull().sum().sort_values(ascending=False).head(30)) # Display top 30 missing"
   ]
  },
  {
   "cell_type": "code",
   "execution_count": 196,
   "id": "40e6fb13",
   "metadata": {},
   "outputs": [
    {
     "name": "stdout",
     "output_type": "stream",
     "text": [
      "Column names normalized. Sample:\n"
     ]
    },
    {
     "data": {
      "text/html": [
       "<div>\n",
       "<style scoped>\n",
       "    .dataframe tbody tr th:only-of-type {\n",
       "        vertical-align: middle;\n",
       "    }\n",
       "\n",
       "    .dataframe tbody tr th {\n",
       "        vertical-align: top;\n",
       "    }\n",
       "\n",
       "    .dataframe thead th {\n",
       "        text-align: right;\n",
       "    }\n",
       "</style>\n",
       "<table border=\"1\" class=\"dataframe\">\n",
       "  <thead>\n",
       "    <tr style=\"text-align: right;\">\n",
       "      <th></th>\n",
       "      <th>show_id</th>\n",
       "      <th>type</th>\n",
       "      <th>title</th>\n",
       "      <th>director</th>\n",
       "      <th>cast</th>\n",
       "      <th>country</th>\n",
       "      <th>date_added</th>\n",
       "      <th>release_year</th>\n",
       "      <th>rating</th>\n",
       "      <th>duration</th>\n",
       "      <th>listed_in</th>\n",
       "      <th>description</th>\n",
       "    </tr>\n",
       "  </thead>\n",
       "  <tbody>\n",
       "    <tr>\n",
       "      <th>0</th>\n",
       "      <td>s1</td>\n",
       "      <td>Movie</td>\n",
       "      <td>Dick Johnson Is Dead</td>\n",
       "      <td>Kirsten Johnson</td>\n",
       "      <td>&lt;NA&gt;</td>\n",
       "      <td>United States</td>\n",
       "      <td>September 25, 2021</td>\n",
       "      <td>2020</td>\n",
       "      <td>PG-13</td>\n",
       "      <td>90 min</td>\n",
       "      <td>Documentaries</td>\n",
       "      <td>As her father nears the end of his life, filmmaker Kirsten Johnson stages his death in inventive and comical ways to help them both face the inevitable.</td>\n",
       "    </tr>\n",
       "  </tbody>\n",
       "</table>\n",
       "</div>"
      ],
      "text/plain": [
       "  show_id   type                 title         director  cast        country  \\\n",
       "0      s1  Movie  Dick Johnson Is Dead  Kirsten Johnson  <NA>  United States   \n",
       "\n",
       "           date_added  release_year rating duration      listed_in  \\\n",
       "0  September 25, 2021          2020  PG-13   90 min  Documentaries   \n",
       "\n",
       "                                                                                                                                                description  \n",
       "0  As her father nears the end of his life, filmmaker Kirsten Johnson stages his death in inventive and comical ways to help them both face the inevitable.  "
      ]
     },
     "execution_count": 196,
     "metadata": {},
     "output_type": "execute_result"
    }
   ],
   "source": [
    "# Normalize column names and trim whitespace\n",
    "df.columns = [c.strip() for c in df.columns] # Keep original case but strip whitespace\n",
    "# Trim whitespace in object columns\n",
    "for c in df.select_dtypes(include=\"object\").columns: # Only object columns\n",
    "    df[c] = df[c].astype(\"string\").str.strip() # Use pandas string dtype to allow NaN\n",
    "print(\"Column names normalized. Sample:\")\n",
    "df.head(1)"
   ]
  },
  {
   "cell_type": "code",
   "execution_count": 197,
   "id": "3e5e67a5",
   "metadata": {},
   "outputs": [
    {
     "name": "stdout",
     "output_type": "stream",
     "text": [
      "'date_added' parsed. \n",
      "Range: 2008-01-01 00:00:00 to 2021-09-25 00:00:00\n"
     ]
    }
   ],
   "source": [
    "# Convert date_added to datetime and extract year/month\n",
    "if 'date_added' in df.columns:\n",
    "    df['date_added'] = pd.to_datetime(df['date_added'], errors='coerce') # Coerce errors to NaT\n",
    "    df['date_added_year'] = df['date_added'].dt.year.astype('Int64') # Use Int64 to allow NaN\n",
    "    df['date_added_month'] = df['date_added'].dt.month.astype('Int64') # Use Int64 to allow NaN\n",
    "    print(\"'date_added' parsed. \\nRange:\", df['date_added'].min(), \"to\", df['date_added'].max())\n",
    "else:\n",
    "    print(\"No 'date_added' column present.\")"
   ]
  },
  {
   "cell_type": "code",
   "execution_count": 198,
   "id": "e70e0c06",
   "metadata": {},
   "outputs": [
    {
     "name": "stdout",
     "output_type": "stream",
     "text": [
      "Primary country examples:\n"
     ]
    },
    {
     "data": {
      "text/plain": [
       "primary_country\n",
       "United States     3211\n",
       "India             1008\n",
       "Unknown            833\n",
       "United Kingdom     628\n",
       "Canada             271\n",
       "Japan              259\n",
       "France             212\n",
       "South Korea        211\n",
       "Spain              181\n",
       "Mexico             134\n",
       "Name: count, dtype: Int64"
      ]
     },
     "metadata": {},
     "output_type": "display_data"
    }
   ],
   "source": [
    "# Primary country\n",
    "if 'country' in df.columns:\n",
    "    df['country'] = df['country'].replace('', pd.NA) # Replace empty strings with NaN\n",
    "    df['primary_country'] = (df['country']\n",
    "                              .fillna('') # Fill NaN with empty string to avoid errors\n",
    "                              .str.split(',') # Split by comma to get list of countries\n",
    "                              .str[0] # Take first country\n",
    "                              .str.strip() # Strip whitespace\n",
    "                              .replace('', 'Unknown') # Replace empty strings with 'Unknown'\n",
    "                              .astype('string')) # Convert to string dtype\n",
    "    print(\"Primary country examples:\")\n",
    "    display(df['primary_country'].value_counts().head(10)) # Show top 10 countries\n",
    "else:\n",
    "    df['primary_country'] = 'Unknown'\n",
    "    print(\"No country column, created primary_country = 'Unknown'\")"
   ]
  },
  {
   "cell_type": "code",
   "execution_count": 199,
   "id": "85636193",
   "metadata": {},
   "outputs": [
    {
     "name": "stdout",
     "output_type": "stream",
     "text": [
      "Top genres (exploded):\n"
     ]
    },
    {
     "data": {
      "text/plain": [
       "International Movies        2752\n",
       "Dramas                      2427\n",
       "Comedies                    1674\n",
       "International TV Shows      1351\n",
       "Documentaries                869\n",
       "Action & Adventure           859\n",
       "TV Dramas                    763\n",
       "Independent Movies           756\n",
       "Children & Family Movies     641\n",
       "Romantic Movies              616\n",
       "TV Comedies                  581\n",
       "Thrillers                    577\n",
       "Crime TV Shows               470\n",
       "Kids' TV                     451\n",
       "Docuseries                   395\n",
       "Name: count, dtype: int64"
      ]
     },
     "metadata": {},
     "output_type": "display_data"
    }
   ],
   "source": [
    "# Parse listed_in -> genres_list and genres_str\n",
    "if 'listed_in' in df.columns:\n",
    "    df['listed_in'] = df['listed_in'].fillna('') # Replace NaN with empty string\n",
    "    df['genres_list'] = df['listed_in'].apply(lambda s: [g.strip() for g in s.split(',') if g.strip()]) # Split and strip\n",
    "    df['genres_str'] = df['genres_list'].apply(lambda lst: \"|\".join(lst) if lst else \"\") # Join with | or empty string\n",
    "    print(\"Top genres (exploded):\")\n",
    "    display(pd.Series([g for lst in df['genres_list'] for g in lst]).value_counts().head(15)) # Explode and count top 15\n",
    "else:\n",
    "    df['genres_list'] = [[] for _ in range(len(df))] # Empty list for each row\n",
    "    df['genres_str'] = \"\" # Empty string\n",
    "    print(\"No 'listed_in' column.\")"
   ]
  },
  {
   "cell_type": "code",
   "execution_count": 200,
   "id": "16884893",
   "metadata": {},
   "outputs": [
    {
     "name": "stdout",
     "output_type": "stream",
     "text": [
      "Director primary sample:\n"
     ]
    },
    {
     "data": {
      "text/html": [
       "<div>\n",
       "<style scoped>\n",
       "    .dataframe tbody tr th:only-of-type {\n",
       "        vertical-align: middle;\n",
       "    }\n",
       "\n",
       "    .dataframe tbody tr th {\n",
       "        vertical-align: top;\n",
       "    }\n",
       "\n",
       "    .dataframe thead th {\n",
       "        text-align: right;\n",
       "    }\n",
       "</style>\n",
       "<table border=\"1\" class=\"dataframe\">\n",
       "  <thead>\n",
       "    <tr style=\"text-align: right;\">\n",
       "      <th></th>\n",
       "      <th>director</th>\n",
       "      <th>director_primary</th>\n",
       "    </tr>\n",
       "  </thead>\n",
       "  <tbody>\n",
       "    <tr>\n",
       "      <th>0</th>\n",
       "      <td>Kirsten Johnson</td>\n",
       "      <td>Kirsten Johnson</td>\n",
       "    </tr>\n",
       "    <tr>\n",
       "      <th>1</th>\n",
       "      <td></td>\n",
       "      <td>NaN</td>\n",
       "    </tr>\n",
       "    <tr>\n",
       "      <th>2</th>\n",
       "      <td>Julien Leclercq</td>\n",
       "      <td>Julien Leclercq</td>\n",
       "    </tr>\n",
       "    <tr>\n",
       "      <th>3</th>\n",
       "      <td></td>\n",
       "      <td>NaN</td>\n",
       "    </tr>\n",
       "    <tr>\n",
       "      <th>4</th>\n",
       "      <td></td>\n",
       "      <td>NaN</td>\n",
       "    </tr>\n",
       "  </tbody>\n",
       "</table>\n",
       "</div>"
      ],
      "text/plain": [
       "          director director_primary\n",
       "0  Kirsten Johnson  Kirsten Johnson\n",
       "1                               NaN\n",
       "2  Julien Leclercq  Julien Leclercq\n",
       "3                               NaN\n",
       "4                               NaN"
      ]
     },
     "metadata": {},
     "output_type": "display_data"
    },
    {
     "name": "stdout",
     "output_type": "stream",
     "text": [
      "Cast primary sample:\n"
     ]
    },
    {
     "data": {
      "text/html": [
       "<div>\n",
       "<style scoped>\n",
       "    .dataframe tbody tr th:only-of-type {\n",
       "        vertical-align: middle;\n",
       "    }\n",
       "\n",
       "    .dataframe tbody tr th {\n",
       "        vertical-align: top;\n",
       "    }\n",
       "\n",
       "    .dataframe thead th {\n",
       "        text-align: right;\n",
       "    }\n",
       "</style>\n",
       "<table border=\"1\" class=\"dataframe\">\n",
       "  <thead>\n",
       "    <tr style=\"text-align: right;\">\n",
       "      <th></th>\n",
       "      <th>cast</th>\n",
       "      <th>cast_primary</th>\n",
       "    </tr>\n",
       "  </thead>\n",
       "  <tbody>\n",
       "    <tr>\n",
       "      <th>0</th>\n",
       "      <td></td>\n",
       "      <td>NaN</td>\n",
       "    </tr>\n",
       "    <tr>\n",
       "      <th>1</th>\n",
       "      <td>Ama Qamata, Khosi Ngema, Gail Mabalane, Thabang Molaba, Dillon Windvogel, Natasha Thahane, Arno Greeff, Xolile Tshabalala, Getmore Sithole, Cindy Mahlangu, Ryle De Morny, Greteli Fincham, Sello Ma...</td>\n",
       "      <td>Ama Qamata</td>\n",
       "    </tr>\n",
       "    <tr>\n",
       "      <th>2</th>\n",
       "      <td>Sami Bouajila, Tracy Gotoas, Samuel Jouy, Nabiha Akkari, Sofia Lesaffre, Salim Kechiouche, Noureddine Farihi, Geert Van Rampelberg, Bakary Diombera</td>\n",
       "      <td>Sami Bouajila</td>\n",
       "    </tr>\n",
       "    <tr>\n",
       "      <th>3</th>\n",
       "      <td></td>\n",
       "      <td>NaN</td>\n",
       "    </tr>\n",
       "    <tr>\n",
       "      <th>4</th>\n",
       "      <td>Mayur More, Jitendra Kumar, Ranjan Raj, Alam Khan, Ahsaas Channa, Revathi Pillai, Urvi Singh, Arun Kumar</td>\n",
       "      <td>Mayur More</td>\n",
       "    </tr>\n",
       "  </tbody>\n",
       "</table>\n",
       "</div>"
      ],
      "text/plain": [
       "                                                                                                                                                                                                      cast  \\\n",
       "0                                                                                                                                                                                                            \n",
       "1  Ama Qamata, Khosi Ngema, Gail Mabalane, Thabang Molaba, Dillon Windvogel, Natasha Thahane, Arno Greeff, Xolile Tshabalala, Getmore Sithole, Cindy Mahlangu, Ryle De Morny, Greteli Fincham, Sello Ma...   \n",
       "2                                                      Sami Bouajila, Tracy Gotoas, Samuel Jouy, Nabiha Akkari, Sofia Lesaffre, Salim Kechiouche, Noureddine Farihi, Geert Van Rampelberg, Bakary Diombera   \n",
       "3                                                                                                                                                                                                            \n",
       "4                                                                                                 Mayur More, Jitendra Kumar, Ranjan Raj, Alam Khan, Ahsaas Channa, Revathi Pillai, Urvi Singh, Arun Kumar   \n",
       "\n",
       "    cast_primary  \n",
       "0            NaN  \n",
       "1     Ama Qamata  \n",
       "2  Sami Bouajila  \n",
       "3            NaN  \n",
       "4     Mayur More  "
      ]
     },
     "metadata": {},
     "output_type": "display_data"
    }
   ],
   "source": [
    "# Director and cast cleaning\n",
    "for col in ['director', 'cast']:\n",
    "    if col in df.columns:\n",
    "        df[col] = df[col].fillna('').astype('string').str.strip() # Fill NaN and trim whitespace\n",
    "        df[f'{col}_missing'] = df[col].apply(lambda x: True if (not x or pd.isna(x)) else False) # True if missing or empty\n",
    "        df[f'{col}_primary'] = df[col].replace('', pd.NA).dropna().str.split(',').str[0].str.strip().fillna('Unknown') # First director/cast or Unknown if missing\n",
    "    else:\n",
    "        df[f'{col}_missing'] = True # All missing\n",
    "        df[f'{col}_primary'] = 'Unknown' # All Unknown\n",
    "\n",
    "print(\"Director primary sample:\")\n",
    "display(df[['director', 'director_primary']].head(5)) # Sample of director primary\n",
    "print(\"Cast primary sample:\")\n",
    "display(df[['cast', 'cast_primary']].head(5)) # Sample of cast primary"
   ]
  },
  {
   "cell_type": "code",
   "execution_count": 201,
   "id": "e87b49aa",
   "metadata": {},
   "outputs": [
    {
     "name": "stdout",
     "output_type": "stream",
     "text": [
      "'release_year' data type: Int64\n"
     ]
    }
   ],
   "source": [
    "# Numeric and categorical cleanups\n",
    "if 'release_year' in df.columns:\n",
    "    df['release_year'] = pd.to_numeric(df['release_year'], errors='coerce').astype('Int64') # Coerce errors to NaN, use Int64 to allow NaN\n",
    "if 'rating' in df.columns:\n",
    "    df['rating'] = df['rating'].fillna('Not Rated').astype('string') # Fill NaN and convert to string\n",
    "if 'type' in df.columns:\n",
    "    df['type'] = df['type'].astype('string').str.strip().str.title()  # Movie / Tv Show standardization with title case\n",
    "print(\"'release_year' data type:\", df['release_year'].dtype if 'release_year' in df.columns else 'N/A')"
   ]
  },
  {
   "cell_type": "code",
   "execution_count": 202,
   "id": "6f055d23",
   "metadata": {},
   "outputs": [
    {
     "name": "stdout",
     "output_type": "stream",
     "text": [
      "Metadata sample:\n"
     ]
    },
    {
     "data": {
      "text/html": [
       "<div>\n",
       "<style scoped>\n",
       "    .dataframe tbody tr th:only-of-type {\n",
       "        vertical-align: middle;\n",
       "    }\n",
       "\n",
       "    .dataframe tbody tr th {\n",
       "        vertical-align: top;\n",
       "    }\n",
       "\n",
       "    .dataframe thead th {\n",
       "        text-align: right;\n",
       "    }\n",
       "</style>\n",
       "<table border=\"1\" class=\"dataframe\">\n",
       "  <thead>\n",
       "    <tr style=\"text-align: right;\">\n",
       "      <th></th>\n",
       "      <th>title</th>\n",
       "      <th>metadata</th>\n",
       "    </tr>\n",
       "  </thead>\n",
       "  <tbody>\n",
       "    <tr>\n",
       "      <th>0</th>\n",
       "      <td>Dick Johnson Is Dead</td>\n",
       "      <td>Dick Johnson Is Dead | As her father nears the end of his life, filmmaker Kirsten Johnson stages his death in inventive and comical ways to help them both face the inevitable. | Documentaries | Ki...</td>\n",
       "    </tr>\n",
       "    <tr>\n",
       "      <th>1</th>\n",
       "      <td>Blood &amp; Water</td>\n",
       "      <td>Blood &amp; Water | After crossing paths at a party, a Cape Town teen sets out to prove whether a private-school swimming star is her sister who was abducted at birth. | International TV Shows|TV Dram...</td>\n",
       "    </tr>\n",
       "    <tr>\n",
       "      <th>2</th>\n",
       "      <td>Ganglands</td>\n",
       "      <td>Ganglands | To protect his family from a powerful drug lord, skilled thief Mehdi and his expert team of robbers are pulled into a violent and deadly turf war. | Crime TV Shows|International TV Sho...</td>\n",
       "    </tr>\n",
       "  </tbody>\n",
       "</table>\n",
       "</div>"
      ],
      "text/plain": [
       "                  title  \\\n",
       "0  Dick Johnson Is Dead   \n",
       "1         Blood & Water   \n",
       "2             Ganglands   \n",
       "\n",
       "                                                                                                                                                                                                  metadata  \n",
       "0  Dick Johnson Is Dead | As her father nears the end of his life, filmmaker Kirsten Johnson stages his death in inventive and comical ways to help them both face the inevitable. | Documentaries | Ki...  \n",
       "1  Blood & Water | After crossing paths at a party, a Cape Town teen sets out to prove whether a private-school swimming star is her sister who was abducted at birth. | International TV Shows|TV Dram...  \n",
       "2  Ganglands | To protect his family from a powerful drug lord, skilled thief Mehdi and his expert team of robbers are pulled into a violent and deadly turf war. | Crime TV Shows|International TV Sho...  "
      ]
     },
     "metadata": {},
     "output_type": "display_data"
    }
   ],
   "source": [
    "# Build metadata text column (for TF-IDF later)\n",
    "def safe(x):\n",
    "    if pd.isna(x):\n",
    "        return \"\" # Handle NaN by returning empty string so that it doesn't affect metadata\n",
    "    if isinstance(x, list):\n",
    "        return \" \".join(x) # Join list into space-separated string\n",
    "    return str(x)\n",
    "\n",
    "text_fields = []\n",
    "if 'title' in df.columns: text_fields.append('title')\n",
    "if 'description' in df.columns: text_fields.append('description')\n",
    "# Add engineered/text fields to get more context\n",
    "text_fields += ['genres_str', 'director_primary', 'cast_primary', 'primary_country']\n",
    "\n",
    "def combine_metadata(row): # Combine specified text fields into one metadata string\n",
    "    parts = [safe(row.get(f, \"\")) for f in text_fields] # Get each field safely from row, default to empty string\n",
    "    parts = [p for p in parts if p] # Keep only non-empty parts\n",
    "    return \" | \".join(parts) # Join with \" | \"\n",
    "\n",
    "df['metadata'] = df.apply(combine_metadata, axis=1) # Apply row-wise to combine metadata\n",
    "print(\"Metadata sample:\")\n",
    "display(df[['title','metadata']].head(3))"
   ]
  },
  {
   "cell_type": "code",
   "execution_count": 203,
   "id": "bd447eb0",
   "metadata": {},
   "outputs": [
    {
     "name": "stdout",
     "output_type": "stream",
     "text": [
      "Rows: Before = 8807, After dedupe = 8804, Removed = 3\n",
      "\n",
      "Top missing counts (post-clean):\n"
     ]
    },
    {
     "data": {
      "text/plain": [
       "director_primary    2633\n",
       "country              830\n",
       "cast_primary         825\n",
       "date_added            10\n",
       "date_added_month      10\n",
       "date_added_year       10\n",
       "duration               3\n",
       "cast                   0\n",
       "title                  0\n",
       "type                   0\n",
       "show_id                0\n",
       "director               0\n",
       "rating                 0\n",
       "release_year           0\n",
       "listed_in              0\n",
       "description            0\n",
       "primary_country        0\n",
       "genres_list            0\n",
       "director_missing       0\n",
       "genres_str             0\n",
       "dtype: int64"
      ]
     },
     "metadata": {},
     "output_type": "display_data"
    }
   ],
   "source": [
    "# Dedupe and sanity checks\n",
    "before = df.shape[0] # Initial row count\n",
    "# Drop exact duplicate rows first\n",
    "df.loc[df.astype(str).drop_duplicates().index] # Converted to string because some columns may be lists and therefore unhashable (drop_duplicates() requires hashable types)\n",
    "# Drop duplicates by title + type + release_year if many duplicates expected\n",
    "if set(['title','type','release_year']).issubset(df.columns):\n",
    "    df = df.drop_duplicates(subset=['title','type','release_year'])\n",
    "after = df.shape[0] # Final row count\n",
    "print(f\"Rows: Before = {before}, After dedupe = {after}, Removed = {before-after}\")\n",
    "\n",
    "print(\"\\nTop missing counts (post-clean):\")\n",
    "display(df.isnull().sum().sort_values(ascending=False).head(20))"
   ]
  },
  {
   "cell_type": "code",
   "execution_count": 204,
   "id": "9f2fbc53",
   "metadata": {},
   "outputs": [
    {
     "name": "stdout",
     "output_type": "stream",
     "text": [
      "Saving cleaned CSV to: C:\\Users\\Admibn\\OneDrive\\Desktop\\Netflix Project\\netflix-analysis-project\\data\\cleaned\\netflix_titles_clean.csv\n",
      "Saved. \n",
      "Clean shape: (8804, 13)\n"
     ]
    },
    {
     "data": {
      "text/html": [
       "<div>\n",
       "<style scoped>\n",
       "    .dataframe tbody tr th:only-of-type {\n",
       "        vertical-align: middle;\n",
       "    }\n",
       "\n",
       "    .dataframe tbody tr th {\n",
       "        vertical-align: top;\n",
       "    }\n",
       "\n",
       "    .dataframe thead th {\n",
       "        text-align: right;\n",
       "    }\n",
       "</style>\n",
       "<table border=\"1\" class=\"dataframe\">\n",
       "  <thead>\n",
       "    <tr style=\"text-align: right;\">\n",
       "      <th></th>\n",
       "      <th>title</th>\n",
       "      <th>show_id</th>\n",
       "      <th>type</th>\n",
       "      <th>release_year</th>\n",
       "      <th>primary_country</th>\n",
       "      <th>genres_str</th>\n",
       "      <th>rating</th>\n",
       "      <th>date_added</th>\n",
       "      <th>date_added_year</th>\n",
       "      <th>date_added_month</th>\n",
       "      <th>director_primary</th>\n",
       "      <th>cast_primary</th>\n",
       "      <th>metadata</th>\n",
       "    </tr>\n",
       "  </thead>\n",
       "  <tbody>\n",
       "    <tr>\n",
       "      <th>0</th>\n",
       "      <td>Dick Johnson Is Dead</td>\n",
       "      <td>s1</td>\n",
       "      <td>Movie</td>\n",
       "      <td>2020</td>\n",
       "      <td>United States</td>\n",
       "      <td>Documentaries</td>\n",
       "      <td>PG-13</td>\n",
       "      <td>2021-09-25</td>\n",
       "      <td>2021</td>\n",
       "      <td>9</td>\n",
       "      <td>Kirsten Johnson</td>\n",
       "      <td>NaN</td>\n",
       "      <td>Dick Johnson Is Dead | As her father nears the end of his life, filmmaker Kirsten Johnson stages his death in inventive and comical ways to help them both face the inevitable. | Documentaries | Ki...</td>\n",
       "    </tr>\n",
       "    <tr>\n",
       "      <th>1</th>\n",
       "      <td>Blood &amp; Water</td>\n",
       "      <td>s2</td>\n",
       "      <td>Tv Show</td>\n",
       "      <td>2021</td>\n",
       "      <td>South Africa</td>\n",
       "      <td>International TV Shows|TV Dramas|TV Mysteries</td>\n",
       "      <td>TV-MA</td>\n",
       "      <td>2021-09-24</td>\n",
       "      <td>2021</td>\n",
       "      <td>9</td>\n",
       "      <td>NaN</td>\n",
       "      <td>Ama Qamata</td>\n",
       "      <td>Blood &amp; Water | After crossing paths at a party, a Cape Town teen sets out to prove whether a private-school swimming star is her sister who was abducted at birth. | International TV Shows|TV Dram...</td>\n",
       "    </tr>\n",
       "    <tr>\n",
       "      <th>2</th>\n",
       "      <td>Ganglands</td>\n",
       "      <td>s3</td>\n",
       "      <td>Tv Show</td>\n",
       "      <td>2021</td>\n",
       "      <td>Unknown</td>\n",
       "      <td>Crime TV Shows|International TV Shows|TV Action &amp; Adventure</td>\n",
       "      <td>TV-MA</td>\n",
       "      <td>2021-09-24</td>\n",
       "      <td>2021</td>\n",
       "      <td>9</td>\n",
       "      <td>Julien Leclercq</td>\n",
       "      <td>Sami Bouajila</td>\n",
       "      <td>Ganglands | To protect his family from a powerful drug lord, skilled thief Mehdi and his expert team of robbers are pulled into a violent and deadly turf war. | Crime TV Shows|International TV Sho...</td>\n",
       "    </tr>\n",
       "    <tr>\n",
       "      <th>3</th>\n",
       "      <td>Jailbirds New Orleans</td>\n",
       "      <td>s4</td>\n",
       "      <td>Tv Show</td>\n",
       "      <td>2021</td>\n",
       "      <td>Unknown</td>\n",
       "      <td>Docuseries|Reality TV</td>\n",
       "      <td>TV-MA</td>\n",
       "      <td>2021-09-24</td>\n",
       "      <td>2021</td>\n",
       "      <td>9</td>\n",
       "      <td>NaN</td>\n",
       "      <td>NaN</td>\n",
       "      <td>Jailbirds New Orleans | Feuds, flirtations and toilet talk go down among the incarcerated women at the Orleans Justice Center in New Orleans on this gritty reality series. | Docuseries|Reality TV ...</td>\n",
       "    </tr>\n",
       "  </tbody>\n",
       "</table>\n",
       "</div>"
      ],
      "text/plain": [
       "                   title show_id     type  release_year primary_country  \\\n",
       "0   Dick Johnson Is Dead      s1    Movie          2020   United States   \n",
       "1          Blood & Water      s2  Tv Show          2021    South Africa   \n",
       "2              Ganglands      s3  Tv Show          2021         Unknown   \n",
       "3  Jailbirds New Orleans      s4  Tv Show          2021         Unknown   \n",
       "\n",
       "                                                    genres_str rating  \\\n",
       "0                                                Documentaries  PG-13   \n",
       "1                International TV Shows|TV Dramas|TV Mysteries  TV-MA   \n",
       "2  Crime TV Shows|International TV Shows|TV Action & Adventure  TV-MA   \n",
       "3                                        Docuseries|Reality TV  TV-MA   \n",
       "\n",
       "  date_added  date_added_year  date_added_month director_primary  \\\n",
       "0 2021-09-25             2021                 9  Kirsten Johnson   \n",
       "1 2021-09-24             2021                 9              NaN   \n",
       "2 2021-09-24             2021                 9  Julien Leclercq   \n",
       "3 2021-09-24             2021                 9              NaN   \n",
       "\n",
       "    cast_primary  \\\n",
       "0            NaN   \n",
       "1     Ama Qamata   \n",
       "2  Sami Bouajila   \n",
       "3            NaN   \n",
       "\n",
       "                                                                                                                                                                                                  metadata  \n",
       "0  Dick Johnson Is Dead | As her father nears the end of his life, filmmaker Kirsten Johnson stages his death in inventive and comical ways to help them both face the inevitable. | Documentaries | Ki...  \n",
       "1  Blood & Water | After crossing paths at a party, a Cape Town teen sets out to prove whether a private-school swimming star is her sister who was abducted at birth. | International TV Shows|TV Dram...  \n",
       "2  Ganglands | To protect his family from a powerful drug lord, skilled thief Mehdi and his expert team of robbers are pulled into a violent and deadly turf war. | Crime TV Shows|International TV Sho...  \n",
       "3  Jailbirds New Orleans | Feuds, flirtations and toilet talk go down among the incarcerated women at the Orleans Justice Center in New Orleans on this gritty reality series. | Docuseries|Reality TV ...  "
      ]
     },
     "metadata": {},
     "output_type": "display_data"
    }
   ],
   "source": [
    "# Select columns to save and export cleaned csv\n",
    "CLEAN_DIR.mkdir(parents=True, exist_ok=True) # Ensure clean directory exists and create if needed\n",
    "\n",
    "cols = []\n",
    "# Prefer canonical ids if present\n",
    "if 'show_id' in df.columns: cols.append('show_id')\n",
    "# Core fields\n",
    "cols += [c for c in ['type','title','release_year','primary_country','genres_str','rating','date_added','date_added_year','date_added_month','director_primary','cast_primary','metadata'] if c in df.columns]\n",
    "# Relevance of above fields: They cover the main attributes needed for analysis and recommendation, while avoiding overly detailed or redundant info\n",
    "\n",
    "# Ensure title is first if present\n",
    "if 'title' in cols:\n",
    "    cols = ['title'] + [c for c in cols if c!='title']\n",
    "\n",
    "df_clean = df[cols].copy() # Create a copy of the selected columns to avoid SettingWithCopyWarning\n",
    "# SettingWithCopyWarning can occur if we try to modify df_clean later without using .copy()\n",
    "print(\"Saving cleaned CSV to:\", CLEAN_CSV)\n",
    "df_clean.to_csv(CLEAN_CSV, index=False) # Save without index\n",
    "print(\"Saved. \\nClean shape:\", df_clean.shape)\n",
    "display(df_clean.head(4))"
   ]
  },
  {
   "cell_type": "code",
   "execution_count": 205,
   "id": "864fc66a",
   "metadata": {},
   "outputs": [
    {
     "name": "stdout",
     "output_type": "stream",
     "text": [
      "Unique titles: 8801\n",
      "Top 8 countries:\n"
     ]
    },
    {
     "data": {
      "text/plain": [
       "primary_country\n",
       "United States     3211\n",
       "India             1007\n",
       "Unknown            832\n",
       "United Kingdom     628\n",
       "Canada             271\n",
       "Japan              259\n",
       "France             212\n",
       "South Korea        211\n",
       "Name: count, dtype: Int64"
      ]
     },
     "metadata": {},
     "output_type": "display_data"
    },
    {
     "name": "stdout",
     "output_type": "stream",
     "text": [
      "Top 8 genres (by primary_genre approximation):\n"
     ]
    },
    {
     "data": {
      "text/plain": [
       "genres_str\n",
       "Dramas                      1599\n",
       "Comedies                    1209\n",
       "Action & Adventure           859\n",
       "Documentaries                829\n",
       "International TV Shows       773\n",
       "Children & Family Movies     605\n",
       "Crime TV Shows               399\n",
       "Kids' TV                     388\n",
       "Name: count, dtype: int64"
      ]
     },
     "metadata": {},
     "output_type": "display_data"
    }
   ],
   "source": [
    "# Quick summary counts to include in the notebook\n",
    "print(\"Unique titles:\", df_clean['title'].nunique()) # Number of unique titles\n",
    "if 'primary_country' in df_clean.columns:\n",
    "    print(\"Top 8 countries:\")\n",
    "    display(df_clean['primary_country'].value_counts().head(8))\n",
    "if 'genres_str' in df_clean.columns:\n",
    "    print(\"Top 8 genres (by primary_genre approximation):\")\n",
    "    display(df_clean['genres_str'].str.split('|').str[0].value_counts().head(8)) # Approximate primary genre by first listed genre"
   ]
  }
 ],
 "metadata": {
  "kernelspec": {
   "display_name": "Python 3",
   "language": "python",
   "name": "python3"
  },
  "language_info": {
   "codemirror_mode": {
    "name": "ipython",
    "version": 3
   },
   "file_extension": ".py",
   "mimetype": "text/x-python",
   "name": "python",
   "nbconvert_exporter": "python",
   "pygments_lexer": "ipython3",
   "version": "3.11.9"
  }
 },
 "nbformat": 4,
 "nbformat_minor": 5
}
