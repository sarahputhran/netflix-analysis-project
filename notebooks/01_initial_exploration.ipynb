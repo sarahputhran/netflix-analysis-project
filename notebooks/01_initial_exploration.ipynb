{
 "cells": [
  {
   "cell_type": "markdown",
   "id": "09931429",
   "metadata": {},
   "source": [
    "# 01 - Initial Exploration\n",
    "\n",
    "Load the Netflix Titles dataset and perform the following quick checks:\n",
    "- Shape, head, data types, missing values.\n",
    "- Basic distributions like type, country, listed_in."
   ]
  },
  {
   "cell_type": "code",
   "execution_count": 84,
   "id": "c95b4264",
   "metadata": {},
   "outputs": [],
   "source": [
    "# Imports and display settings\n",
    "import pandas as pd\n",
    "import numpy as np\n",
    "import matplotlib.pyplot as plt\n",
    "import seaborn as sns\n",
    "from IPython.display import display\n",
    "\n",
    "# To make outputs wider in the notebook\n",
    "pd.set_option('display.max_columns', 200)\n",
    "pd.set_option('display.width', 200)"
   ]
  },
  {
   "cell_type": "code",
   "execution_count": 85,
   "id": "3d3bf4b9",
   "metadata": {},
   "outputs": [
    {
     "name": "stdout",
     "output_type": "stream",
     "text": [
      "Loaded: C:\\Users\\Admibn\\OneDrive\\Desktop\\Netflix Project\\netflix-analysis-project\\data\\raw\\netflix_titles.csv\n",
      "Rows, Columns: (8807, 12)\n"
     ]
    }
   ],
   "source": [
    "csv_path = r\"C:\\Users\\Admibn\\OneDrive\\Desktop\\Netflix Project\\netflix-analysis-project\\data\\raw\\netflix_titles.csv\"\n",
    "df = pd.read_csv(csv_path)\n",
    "\n",
    "print(\"Loaded:\", csv_path)\n",
    "print(\"Rows, Columns:\", df.shape)"
   ]
  },
  {
   "cell_type": "code",
   "execution_count": 86,
   "id": "b6a3d880",
   "metadata": {},
   "outputs": [
    {
     "data": {
      "text/html": [
       "<div>\n",
       "<style scoped>\n",
       "    .dataframe tbody tr th:only-of-type {\n",
       "        vertical-align: middle;\n",
       "    }\n",
       "\n",
       "    .dataframe tbody tr th {\n",
       "        vertical-align: top;\n",
       "    }\n",
       "\n",
       "    .dataframe thead th {\n",
       "        text-align: right;\n",
       "    }\n",
       "</style>\n",
       "<table border=\"1\" class=\"dataframe\">\n",
       "  <thead>\n",
       "    <tr style=\"text-align: right;\">\n",
       "      <th></th>\n",
       "      <th>show_id</th>\n",
       "      <th>type</th>\n",
       "      <th>title</th>\n",
       "      <th>director</th>\n",
       "      <th>cast</th>\n",
       "      <th>country</th>\n",
       "      <th>date_added</th>\n",
       "      <th>release_year</th>\n",
       "      <th>rating</th>\n",
       "      <th>duration</th>\n",
       "      <th>listed_in</th>\n",
       "      <th>description</th>\n",
       "    </tr>\n",
       "  </thead>\n",
       "  <tbody>\n",
       "    <tr>\n",
       "      <th>0</th>\n",
       "      <td>s1</td>\n",
       "      <td>Movie</td>\n",
       "      <td>Dick Johnson Is Dead</td>\n",
       "      <td>Kirsten Johnson</td>\n",
       "      <td>NaN</td>\n",
       "      <td>United States</td>\n",
       "      <td>September 25, 2021</td>\n",
       "      <td>2020</td>\n",
       "      <td>PG-13</td>\n",
       "      <td>90 min</td>\n",
       "      <td>Documentaries</td>\n",
       "      <td>As her father nears the end of his life, filmm...</td>\n",
       "    </tr>\n",
       "    <tr>\n",
       "      <th>1</th>\n",
       "      <td>s2</td>\n",
       "      <td>TV Show</td>\n",
       "      <td>Blood &amp; Water</td>\n",
       "      <td>NaN</td>\n",
       "      <td>Ama Qamata, Khosi Ngema, Gail Mabalane, Thaban...</td>\n",
       "      <td>South Africa</td>\n",
       "      <td>September 24, 2021</td>\n",
       "      <td>2021</td>\n",
       "      <td>TV-MA</td>\n",
       "      <td>2 Seasons</td>\n",
       "      <td>International TV Shows, TV Dramas, TV Mysteries</td>\n",
       "      <td>After crossing paths at a party, a Cape Town t...</td>\n",
       "    </tr>\n",
       "    <tr>\n",
       "      <th>2</th>\n",
       "      <td>s3</td>\n",
       "      <td>TV Show</td>\n",
       "      <td>Ganglands</td>\n",
       "      <td>Julien Leclercq</td>\n",
       "      <td>Sami Bouajila, Tracy Gotoas, Samuel Jouy, Nabi...</td>\n",
       "      <td>NaN</td>\n",
       "      <td>September 24, 2021</td>\n",
       "      <td>2021</td>\n",
       "      <td>TV-MA</td>\n",
       "      <td>1 Season</td>\n",
       "      <td>Crime TV Shows, International TV Shows, TV Act...</td>\n",
       "      <td>To protect his family from a powerful drug lor...</td>\n",
       "    </tr>\n",
       "    <tr>\n",
       "      <th>3</th>\n",
       "      <td>s4</td>\n",
       "      <td>TV Show</td>\n",
       "      <td>Jailbirds New Orleans</td>\n",
       "      <td>NaN</td>\n",
       "      <td>NaN</td>\n",
       "      <td>NaN</td>\n",
       "      <td>September 24, 2021</td>\n",
       "      <td>2021</td>\n",
       "      <td>TV-MA</td>\n",
       "      <td>1 Season</td>\n",
       "      <td>Docuseries, Reality TV</td>\n",
       "      <td>Feuds, flirtations and toilet talk go down amo...</td>\n",
       "    </tr>\n",
       "    <tr>\n",
       "      <th>4</th>\n",
       "      <td>s5</td>\n",
       "      <td>TV Show</td>\n",
       "      <td>Kota Factory</td>\n",
       "      <td>NaN</td>\n",
       "      <td>Mayur More, Jitendra Kumar, Ranjan Raj, Alam K...</td>\n",
       "      <td>India</td>\n",
       "      <td>September 24, 2021</td>\n",
       "      <td>2021</td>\n",
       "      <td>TV-MA</td>\n",
       "      <td>2 Seasons</td>\n",
       "      <td>International TV Shows, Romantic TV Shows, TV ...</td>\n",
       "      <td>In a city of coaching centers known to train I...</td>\n",
       "    </tr>\n",
       "  </tbody>\n",
       "</table>\n",
       "</div>"
      ],
      "text/plain": [
       "  show_id     type                  title         director                                               cast        country          date_added  release_year rating   duration  \\\n",
       "0      s1    Movie   Dick Johnson Is Dead  Kirsten Johnson                                                NaN  United States  September 25, 2021          2020  PG-13     90 min   \n",
       "1      s2  TV Show          Blood & Water              NaN  Ama Qamata, Khosi Ngema, Gail Mabalane, Thaban...   South Africa  September 24, 2021          2021  TV-MA  2 Seasons   \n",
       "2      s3  TV Show              Ganglands  Julien Leclercq  Sami Bouajila, Tracy Gotoas, Samuel Jouy, Nabi...            NaN  September 24, 2021          2021  TV-MA   1 Season   \n",
       "3      s4  TV Show  Jailbirds New Orleans              NaN                                                NaN            NaN  September 24, 2021          2021  TV-MA   1 Season   \n",
       "4      s5  TV Show           Kota Factory              NaN  Mayur More, Jitendra Kumar, Ranjan Raj, Alam K...          India  September 24, 2021          2021  TV-MA  2 Seasons   \n",
       "\n",
       "                                           listed_in                                        description  \n",
       "0                                      Documentaries  As her father nears the end of his life, filmm...  \n",
       "1    International TV Shows, TV Dramas, TV Mysteries  After crossing paths at a party, a Cape Town t...  \n",
       "2  Crime TV Shows, International TV Shows, TV Act...  To protect his family from a powerful drug lor...  \n",
       "3                             Docuseries, Reality TV  Feuds, flirtations and toilet talk go down amo...  \n",
       "4  International TV Shows, Romantic TV Shows, TV ...  In a city of coaching centers known to train I...  "
      ]
     },
     "execution_count": 86,
     "metadata": {},
     "output_type": "execute_result"
    }
   ],
   "source": [
    "# Preview of the first 5 rows\n",
    "df.head(5)"
   ]
  },
  {
   "cell_type": "code",
   "execution_count": 87,
   "id": "cbd58cbb",
   "metadata": {},
   "outputs": [
    {
     "name": "stdout",
     "output_type": "stream",
     "text": [
      "<class 'pandas.core.frame.DataFrame'>\n",
      "RangeIndex: 8807 entries, 0 to 8806\n",
      "Data columns (total 12 columns):\n",
      " #   Column        Non-Null Count  Dtype \n",
      "---  ------        --------------  ----- \n",
      " 0   show_id       8807 non-null   object\n",
      " 1   type          8807 non-null   object\n",
      " 2   title         8807 non-null   object\n",
      " 3   director      6173 non-null   object\n",
      " 4   cast          7982 non-null   object\n",
      " 5   country       7976 non-null   object\n",
      " 6   date_added    8797 non-null   object\n",
      " 7   release_year  8807 non-null   int64 \n",
      " 8   rating        8803 non-null   object\n",
      " 9   duration      8804 non-null   object\n",
      " 10  listed_in     8807 non-null   object\n",
      " 11  description   8807 non-null   object\n",
      "dtypes: int64(1), object(11)\n",
      "memory usage: 825.8+ KB\n"
     ]
    },
    {
     "data": {
      "text/html": [
       "<div>\n",
       "<style scoped>\n",
       "    .dataframe tbody tr th:only-of-type {\n",
       "        vertical-align: middle;\n",
       "    }\n",
       "\n",
       "    .dataframe tbody tr th {\n",
       "        vertical-align: top;\n",
       "    }\n",
       "\n",
       "    .dataframe thead th {\n",
       "        text-align: right;\n",
       "    }\n",
       "</style>\n",
       "<table border=\"1\" class=\"dataframe\">\n",
       "  <thead>\n",
       "    <tr style=\"text-align: right;\">\n",
       "      <th></th>\n",
       "      <th>release_year</th>\n",
       "    </tr>\n",
       "  </thead>\n",
       "  <tbody>\n",
       "    <tr>\n",
       "      <th>count</th>\n",
       "      <td>8807.000000</td>\n",
       "    </tr>\n",
       "    <tr>\n",
       "      <th>mean</th>\n",
       "      <td>2014.180198</td>\n",
       "    </tr>\n",
       "    <tr>\n",
       "      <th>std</th>\n",
       "      <td>8.819312</td>\n",
       "    </tr>\n",
       "    <tr>\n",
       "      <th>min</th>\n",
       "      <td>1925.000000</td>\n",
       "    </tr>\n",
       "    <tr>\n",
       "      <th>25%</th>\n",
       "      <td>2013.000000</td>\n",
       "    </tr>\n",
       "    <tr>\n",
       "      <th>50%</th>\n",
       "      <td>2017.000000</td>\n",
       "    </tr>\n",
       "    <tr>\n",
       "      <th>75%</th>\n",
       "      <td>2019.000000</td>\n",
       "    </tr>\n",
       "    <tr>\n",
       "      <th>max</th>\n",
       "      <td>2021.000000</td>\n",
       "    </tr>\n",
       "  </tbody>\n",
       "</table>\n",
       "</div>"
      ],
      "text/plain": [
       "       release_year\n",
       "count   8807.000000\n",
       "mean    2014.180198\n",
       "std        8.819312\n",
       "min     1925.000000\n",
       "25%     2013.000000\n",
       "50%     2017.000000\n",
       "75%     2019.000000\n",
       "max     2021.000000"
      ]
     },
     "execution_count": 87,
     "metadata": {},
     "output_type": "execute_result"
    }
   ],
   "source": [
    "# Structure, info about data types and summary statistics\n",
    "df.info()\n",
    "df.describe()"
   ]
  },
  {
   "cell_type": "code",
   "execution_count": 88,
   "id": "d0125182",
   "metadata": {},
   "outputs": [
    {
     "data": {
      "text/plain": [
       "director      2634\n",
       "country        831\n",
       "cast           825\n",
       "date_added      10\n",
       "rating           4\n",
       "duration         3\n",
       "dtype: int64"
      ]
     },
     "execution_count": 88,
     "metadata": {},
     "output_type": "execute_result"
    }
   ],
   "source": [
    "# Missing counts\n",
    "missing = df.isnull().sum().sort_values(ascending=False)\n",
    "missing[missing > 0] # Only show columns with missing values"
   ]
  },
  {
   "cell_type": "code",
   "execution_count": 89,
   "id": "6f5b7f44",
   "metadata": {},
   "outputs": [
    {
     "name": "stdout",
     "output_type": "stream",
     "text": [
      "Duplicate rows (title, type, release_year):  3\n"
     ]
    }
   ],
   "source": [
    "# Duplicates (by title + type + release_year)\n",
    "dupes = df.duplicated(subset=['title', 'type', 'release_year']).sum()\n",
    "print(\"Duplicate rows (title, type, release_year): \", dupes)"
   ]
  },
  {
   "cell_type": "code",
   "execution_count": 90,
   "id": "35a95feb",
   "metadata": {},
   "outputs": [
    {
     "name": "stdout",
     "output_type": "stream",
     "text": [
      "'date_added' -- min/max:  2008-01-01 00:00:00 2021-09-25 00:00:00\n"
     ]
    },
    {
     "data": {
      "text/plain": [
       "date_added\n",
       "2008.0       2\n",
       "2009.0       2\n",
       "2010.0       1\n",
       "2011.0      13\n",
       "2012.0       3\n",
       "2013.0      10\n",
       "2014.0      23\n",
       "2015.0      73\n",
       "2016.0     418\n",
       "2017.0    1164\n",
       "Name: count, dtype: int64"
      ]
     },
     "metadata": {},
     "output_type": "display_data"
    }
   ],
   "source": [
    "# Convert date_added where present\n",
    "if 'date_added' in df.columns:\n",
    "    df['date_added'] = pd.to_datetime(df['date_added'], errors='coerce')\n",
    "    print(\"'date_added' -- min/max: \", df['date_added'].min(), df['date_added'].max()) # Print min/max dates\n",
    "    display(df['date_added'].dt.year.value_counts().sort_index().head(10)) # Show counts by year for first 10 years\n",
    "else:\n",
    "    print(\"No 'date_added' column found.\")"
   ]
  },
  {
   "cell_type": "code",
   "execution_count": 91,
   "id": "437ef02c",
   "metadata": {},
   "outputs": [
    {
     "name": "stdout",
     "output_type": "stream",
     "text": [
      "\n",
      "--- 'type' top values ---\n"
     ]
    },
    {
     "data": {
      "text/plain": [
       "type\n",
       "Movie      6131\n",
       "TV Show    2676\n",
       "Name: count, dtype: int64"
      ]
     },
     "metadata": {},
     "output_type": "display_data"
    },
    {
     "name": "stdout",
     "output_type": "stream",
     "text": [
      "\n",
      "--- 'country' top values ---\n"
     ]
    },
    {
     "data": {
      "text/plain": [
       "country\n",
       "United States     2818\n",
       "India              972\n",
       "Unknown            831\n",
       "United Kingdom     419\n",
       "Japan              245\n",
       "South Korea        199\n",
       "Canada             181\n",
       "Spain              145\n",
       "France             124\n",
       "Mexico             110\n",
       "Name: count, dtype: int64"
      ]
     },
     "metadata": {},
     "output_type": "display_data"
    },
    {
     "name": "stdout",
     "output_type": "stream",
     "text": [
      "\n",
      "--- 'rating' top values ---\n"
     ]
    },
    {
     "data": {
      "text/plain": [
       "rating\n",
       "TV-MA    3207\n",
       "TV-14    2160\n",
       "TV-PG     863\n",
       "R         799\n",
       "PG-13     490\n",
       "TV-Y7     334\n",
       "TV-Y      307\n",
       "PG        287\n",
       "TV-G      220\n",
       "NR         80\n",
       "Name: count, dtype: int64"
      ]
     },
     "metadata": {},
     "output_type": "display_data"
    },
    {
     "name": "stdout",
     "output_type": "stream",
     "text": [
      "\n",
      "--- 'listed_in' top values ---\n"
     ]
    },
    {
     "data": {
      "text/plain": [
       "listed_in\n",
       "Dramas, International Movies                        362\n",
       "Documentaries                                       359\n",
       "Stand-Up Comedy                                     334\n",
       "Comedies, Dramas, International Movies              274\n",
       "Dramas, Independent Movies, International Movies    252\n",
       "Kids' TV                                            220\n",
       "Children & Family Movies                            215\n",
       "Children & Family Movies, Comedies                  201\n",
       "Documentaries, International Movies                 186\n",
       "Dramas, International Movies, Romantic Movies       180\n",
       "Name: count, dtype: int64"
      ]
     },
     "metadata": {},
     "output_type": "display_data"
    }
   ],
   "source": [
    "# Counts for categorical-ish columns\n",
    "for col in ['type', 'country', 'rating', 'listed_in'][:]:\n",
    "    if col in df.columns:\n",
    "        print(f\"\\n--- '{col}' top values ---\")\n",
    "        display(df[col].fillna('Unknown').value_counts().head(10)) # Show top 10 values of each column"
   ]
  },
  {
   "cell_type": "code",
   "execution_count": 92,
   "id": "811c6432",
   "metadata": {},
   "outputs": [
    {
     "data": {
      "image/png": "[encoded data removed]",
      "text/plain": [
       "<Figure size 600x400 with 1 Axes>"
      ]
     },
     "metadata": {},
     "output_type": "display_data"
    },
    {
     "data": {
      "image/png": "[encoded data removed]",
      "text/plain": [
       "<Figure size 800x400 with 1 Axes>"
      ]
     },
     "metadata": {},
     "output_type": "display_data"
    }
   ],
   "source": [
    "# Plot type distribution and top genres\n",
    "plt.figure(figsize=(6,4))\n",
    "sns.countplot(data=df, x='type', order=df['type'].value_counts().index) # Count plot for 'type' column in descending order\n",
    "plt.title('Count by Type')\n",
    "plt.show()\n",
    "\n",
    "# Split listed_in into list of genres and show top genres (quick parsing)\n",
    "if 'listed_in' in df.columns:\n",
    "    # Explode genres by splitting on ', ' and counting occurrences\n",
    "    genres = df['listed_in'].dropna().str.split(', ').explode()\n",
    "    top_genres = genres.value_counts().head(10) # Top 10 genres\n",
    "    plt.figure(figsize=(8,4))\n",
    "    sns.barplot(x=top_genres.values, y=top_genres.index)\n",
    "    plt.title('Top Genres (from listed_in)')\n",
    "    plt.xlabel('Count')\n",
    "    plt.show()"
   ]
  }
 ],
 "metadata": {
  "kernelspec": {
   "display_name": "Python 3",
   "language": "python",
   "name": "python3"
  },
  "language_info": {
   "codemirror_mode": {
    "name": "ipython",
    "version": 3
   },
   "file_extension": ".py",
   "mimetype": "text/x-python",
   "name": "python",
   "nbconvert_exporter": "python",
   "pygments_lexer": "ipython3",
   "version": "3.11.9"
  }
 },
 "nbformat": 4,
 "nbformat_minor": 5
}
